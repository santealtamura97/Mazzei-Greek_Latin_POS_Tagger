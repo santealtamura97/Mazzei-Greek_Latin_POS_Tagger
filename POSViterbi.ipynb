{
 "cells": [
  {
   "cell_type": "code",
   "execution_count": 16,
   "metadata": {},
   "outputs": [],
   "source": [
    "import pandas as pd\n",
    "import pyconll\n",
    "from nltk.tokenize import RegexpTokenizer\n",
    "import numpy as np"
   ]
  },
  {
   "cell_type": "code",
   "execution_count": 4,
   "metadata": {},
   "outputs": [],
   "source": [
    "def compute_trasition_matrix(possible_tags,train):\n",
    "    transition_matrix = np.zeros((len(possible_tags), len(possible_tags)), dtype='float32')\n",
    "    for i,t1 in enumerate(possible_tags):\n",
    "        for j,t2 in enumerate(possible_tags):\n",
    "            transition_matrix[i][j] =  compute_transition_probability(train,t1,t2)\n",
    "    return transition_matrix"
   ]
  },
  {
   "cell_type": "code",
   "execution_count": 5,
   "metadata": {},
   "outputs": [],
   "source": [
    "def compute_emission_matrix(possible_tags, sentence, train):\n",
    "    tokenizer = RegexpTokenizer(r'\\w+')\n",
    "    sentence_tokens = tokenizer.tokenize(sentence)\n",
    "    emission_matrix = np.zeros((len(possible_tags), len(sentence_tokens)), dtype='float32')\n",
    "    for i,t in enumerate(possible_tags):\n",
    "        for j,w in enumerate(sentence_tokens):\n",
    "            emission_matrix[i][j] = compute_emission_probability(train,t,w)\n",
    "    return emission_matrix   "
   ]
  },
  {
   "cell_type": "code",
   "execution_count": 6,
   "metadata": {},
   "outputs": [],
   "source": [
    "#t2_given_t1\n",
    "def compute_transition_probability(train,tag1,tag2):\n",
    "    count_t1_before_t2 = 0\n",
    "    count_t1 = 0\n",
    "    for sentence in train:\n",
    "        for i in range (len(sentence)):\n",
    "            if sentence[i-1].upos == tag1 and sentence[i].upos == tag2 and i != 0:\n",
    "                count_t1_before_t2 = count_t1_before_t2 + 1\n",
    "            if sentence[i].upos == tag1:\n",
    "                count_t1 = count_t1 + 1\n",
    "    return count_t1_before_t2/count_t1"
   ]
  },
  {
   "cell_type": "code",
   "execution_count": 7,
   "metadata": {},
   "outputs": [],
   "source": [
    "def compute_initial_transition_probabilities(possible_tags, train):\n",
    "    initial_probabilities = np.zeros((1,len(possible_tags)), dtype='float32')\n",
    "    for i,t in enumerate(possible_tags):\n",
    "        initial_probabilities[0][i] = tag_initial_state_probability(train, t)\n",
    "    return initial_probabilities"
   ]
  },
  {
   "cell_type": "code",
   "execution_count": 8,
   "metadata": {},
   "outputs": [],
   "source": [
    "def tag_initial_state_probability(train, tag):\n",
    "    count_initial_t = 0\n",
    "    count_t = 0\n",
    "    for sentence in train:\n",
    "        if sentence[0].upos == tag:\n",
    "            count_initial_t = count_initial_t + 1\n",
    "        for token in sentence:\n",
    "            if token.upos == tag:\n",
    "                count_t = count_t + 1\n",
    "                \n",
    "    return count_initial_t/count_t"
   ]
  },
  {
   "cell_type": "code",
   "execution_count": 9,
   "metadata": {},
   "outputs": [],
   "source": [
    "#word_given_tag\n",
    "def compute_emission_probability(train,tag,word):\n",
    "    count_tag_word = 0\n",
    "    count_tag = 0\n",
    "    count_word = 0\n",
    "    for sentence in train:\n",
    "        for token in sentence:\n",
    "            if token.form == word:\n",
    "                count_word = count_word + 1\n",
    "            if token.upos == tag and token.form == word:\n",
    "                count_tag_word = count_tag_word + 1\n",
    "            if token.upos == tag:\n",
    "                count_tag = count_tag + 1\n",
    "    if count_word == 0:\n",
    "        return 1/14\n",
    "    return count_tag_word/count_tag"
   ]
  },
  {
   "cell_type": "code",
   "execution_count": 10,
   "metadata": {},
   "outputs": [],
   "source": [
    "train = pyconll.load_from_file('grc_perseus-ud-train.conllu')"
   ]
  },
  {
   "cell_type": "code",
   "execution_count": 11,
   "metadata": {},
   "outputs": [],
   "source": [
    "tokenizer = RegexpTokenizer(r'\\w+')"
   ]
  },
  {
   "cell_type": "code",
   "execution_count": 12,
   "metadata": {},
   "outputs": [],
   "source": [
    "start = ['START']\n",
    "possible_tags = ['ADJ','ADP', 'ADV', 'CCONJ', 'DET', 'INTJ', 'NOUN',\n",
    "                 'NUM', 'PART', 'PRON', 'PUNCT', 'SCONJ', 'VERB', 'X']\n",
    "\n",
    "sentence = \"Δημήτριος δ̓ ὁ Πολιορκητὴς οὐ δαιμονίως ἤρα Λαμίας τῆς αὐλητρίδος, ἐξ ἧς ἔσχε καὶ θυγατέρα Φίλαν\""
   ]
  },
  {
   "cell_type": "code",
   "execution_count": 37,
   "metadata": {},
   "outputs": [],
   "source": [
    "transition_matrix = pd.DataFrame(compute_trasition_matrix(possible_tags, train), columns = list(possible_tags), index=list(possible_tags))\n",
    "#transition_matrix.to_csv('transition_matrix.csv', index = False)\n",
    "#transition_matrix = pd.read_csv('transition_matrix.csv')\n",
    "\n",
    "initial_transition_probabilities = pd.DataFrame(compute_initial_transition_probabilities(possible_tags, train), columns = list(possible_tags), index=list(start))\n",
    "\n",
    "emission_matrix = pd.DataFrame(compute_emission_matrix(possible_tags, sentence, train), columns = list(tokenizer.tokenize(sentence)), index=list(possible_tags))"
   ]
  },
  {
   "cell_type": "code",
   "execution_count": 38,
   "metadata": {},
   "outputs": [
    {
     "name": "stdout",
     "output_type": "stream",
     "text": [
      "         ADJ       ADP       ADV     CCONJ       DET      INTJ      NOUN  \\\n",
      "0   0.075908  0.045142  0.041618  0.023214  0.026291  0.000392  0.280192   \n",
      "1   0.144166  0.002418  0.028884  0.005090  0.146456  0.000000  0.487721   \n",
      "2   0.090145  0.046916  0.116627  0.017409  0.051638  0.000074  0.116480   \n",
      "3   0.141324  0.051427  0.103462  0.005467  0.076129  0.000607  0.290747   \n",
      "4   0.166345  0.039027  0.102092  0.018400  0.022110  0.000000  0.526191   \n",
      "5   0.241935  0.002688  0.064516  0.000000  0.002688  0.075269  0.381720   \n",
      "6   0.139245  0.046763  0.042743  0.035410  0.027892  0.000153  0.139859   \n",
      "7   0.141463  0.034146  0.024390  0.048780  0.009756  0.000000  0.326829   \n",
      "8   0.124441  0.063101  0.110720  0.026047  0.012620  0.000000  0.206765   \n",
      "9   0.086120  0.038200  0.082718  0.018177  0.029646  0.000972  0.127527   \n",
      "10  0.047969  0.026868  0.054920  0.047279  0.020016  0.004979  0.051075   \n",
      "11  0.069152  0.023452  0.152736  0.015634  0.036079  0.000000  0.078773   \n",
      "12  0.101454  0.066553  0.059820  0.029341  0.047260  0.000435  0.192893   \n",
      "13  0.236842  0.000000  0.026316  0.026316  0.052632  0.078947  0.263158   \n",
      "\n",
      "         NUM      PART      PRON     PUNCT     SCONJ      VERB         X  \n",
      "0   0.000839  0.077530  0.024613  0.163674  0.002909  0.237400  0.000224  \n",
      "1   0.002799  0.076600  0.073165  0.011452  0.000382  0.020741  0.000127  \n",
      "2   0.001033  0.164134  0.091915  0.042638  0.007524  0.252951  0.000516  \n",
      "3   0.002632  0.043936  0.094756  0.004454  0.008909  0.176149  0.000000  \n",
      "4   0.000594  0.042440  0.017213  0.000297  0.000594  0.064698  0.000000  \n",
      "5   0.000000  0.048387  0.051075  0.102151  0.000000  0.026882  0.002688  \n",
      "6   0.001381  0.070482  0.018042  0.213593  0.002762  0.261430  0.000184  \n",
      "7   0.014634  0.146341  0.019512  0.107317  0.000000  0.121951  0.004878  \n",
      "8   0.001101  0.096412  0.114168  0.023333  0.005796  0.215276  0.000220  \n",
      "9   0.000778  0.249903  0.063278  0.054724  0.003208  0.244654  0.000097  \n",
      "10  0.000690  0.007099  0.060245  0.000000  0.037517  0.075774  0.000049  \n",
      "11  0.000601  0.262177  0.126278  0.001203  0.004811  0.229104  0.000000  \n",
      "12  0.001139  0.056906  0.038518  0.293341  0.006866  0.105138  0.000268  \n",
      "13  0.000000  0.105263  0.026316  0.105263  0.000000  0.078947  0.000000  \n"
     ]
    }
   ],
   "source": [
    "print(transition_matrix)"
   ]
  },
  {
   "cell_type": "code",
   "execution_count": 30,
   "metadata": {},
   "outputs": [
    {
     "name": "stdout",
     "output_type": "stream",
     "text": [
      "            ADJ       ADP       ADV     CCONJ       DET      INTJ      NOUN  \\\n",
      "START  0.054875  0.066675  0.211567  0.107107  0.092744  0.540323  0.041546   \n",
      "\n",
      "            NUM      PART      PRON  PUNCT     SCONJ      VERB         X  \n",
      "START  0.082927  0.029349  0.198484    0.0  0.169573  0.055198  0.131579  \n"
     ]
    }
   ],
   "source": [
    "print(initial_transition_probabilities)"
   ]
  },
  {
   "cell_type": "code",
   "execution_count": 31,
   "metadata": {},
   "outputs": [
    {
     "name": "stdout",
     "output_type": "stream",
     "text": [
      "       Δημήτριος         δ         ὁ  Πολιορκητὴς        οὐ  δαιμονίως  \\\n",
      "ADJ     0.000000  0.071429  0.000000     0.071429  0.000000   0.000000   \n",
      "ADP     0.000000  0.071429  0.000000     0.071429  0.000000   0.000000   \n",
      "ADV     0.000000  0.071429  0.000000     0.071429  0.063072   0.000074   \n",
      "CCONJ   0.000000  0.071429  0.000000     0.071429  0.000000   0.000000   \n",
      "DET     0.000000  0.071429  0.070930     0.071429  0.000000   0.000000   \n",
      "INTJ    0.000000  0.071429  0.000000     0.071429  0.000000   0.000000   \n",
      "NOUN    0.000031  0.071429  0.000000     0.071429  0.000000   0.000000   \n",
      "NUM     0.000000  0.071429  0.000000     0.071429  0.000000   0.000000   \n",
      "PART    0.000000  0.071429  0.000000     0.071429  0.006604   0.000000   \n",
      "PRON    0.000000  0.071429  0.001264     0.071429  0.000000   0.000000   \n",
      "PUNCT   0.000000  0.071429  0.000000     0.071429  0.000000   0.000000   \n",
      "SCONJ   0.000000  0.071429  0.000000     0.071429  0.000000   0.000000   \n",
      "VERB    0.000000  0.071429  0.000000     0.071429  0.000000   0.000000   \n",
      "X       0.000000  0.071429  0.000000     0.071429  0.000000   0.000000   \n",
      "\n",
      "            ἤρα    Λαμίας       τῆς  αὐλητρίδος        ἐξ        ἧς      ἔσχε  \\\n",
      "ADJ    0.000000  0.071429  0.000056    0.000000  0.000000  0.000448  0.000000   \n",
      "ADP    0.000000  0.071429  0.000000    0.000000  0.024049  0.000000  0.000000   \n",
      "ADV    0.000000  0.071429  0.000000    0.000000  0.000000  0.000000  0.000000   \n",
      "CCONJ  0.000000  0.071429  0.000000    0.000000  0.000000  0.000000  0.000000   \n",
      "DET    0.000000  0.071429  0.070040    0.000000  0.000000  0.000000  0.000000   \n",
      "INTJ   0.000000  0.071429  0.000000    0.000000  0.000000  0.000000  0.000000   \n",
      "NOUN   0.000000  0.071429  0.000000    0.000061  0.000000  0.000000  0.000000   \n",
      "NUM    0.000000  0.071429  0.000000    0.000000  0.000000  0.000000  0.000000   \n",
      "PART   0.000000  0.071429  0.000000    0.000000  0.000000  0.000000  0.000000   \n",
      "PRON   0.000000  0.071429  0.002138    0.000000  0.000000  0.001069  0.000000   \n",
      "PUNCT  0.000000  0.071429  0.000000    0.000000  0.000000  0.000000  0.000000   \n",
      "SCONJ  0.000000  0.071429  0.000000    0.000000  0.000000  0.000000  0.000000   \n",
      "VERB   0.000033  0.071429  0.000000    0.000000  0.000000  0.000000  0.000837   \n",
      "X      0.000000  0.071429  0.000000    0.000000  0.000000  0.000000  0.000000   \n",
      "\n",
      "            καὶ  θυγατέρα     Φίλαν  \n",
      "ADJ    0.000000  0.000000  0.071429  \n",
      "ADP    0.000000  0.000000  0.071429  \n",
      "ADV    0.065801  0.000000  0.071429  \n",
      "CCONJ  0.554768  0.000000  0.071429  \n",
      "DET    0.000000  0.000000  0.071429  \n",
      "INTJ   0.000000  0.000000  0.071429  \n",
      "NOUN   0.000000  0.000368  0.071429  \n",
      "NUM    0.000000  0.000000  0.071429  \n",
      "PART   0.000000  0.000000  0.071429  \n",
      "PRON   0.000000  0.000000  0.071429  \n",
      "PUNCT  0.000000  0.000000  0.071429  \n",
      "SCONJ  0.000601  0.000000  0.071429  \n",
      "VERB   0.000000  0.000000  0.071429  \n",
      "X      0.000000  0.000000  0.071429  \n"
     ]
    }
   ],
   "source": [
    "print(emission_matrix)"
   ]
  },
  {
   "cell_type": "code",
   "execution_count": 32,
   "metadata": {},
   "outputs": [],
   "source": [
    "\n",
    "def viterbi_algorithm(sentence, possible_tags, transition_matrix, emission_matrix):\n",
    "    print(\"Viterbi Algorithm...\")\n",
    "    states = []    \n",
    "    sentence_tokens = tokenizer.tokenize(sentence)\n",
    "    \n",
    "    for key,word in enumerate(sentence_tokens):\n",
    "        p = []\n",
    "        for t,tag in enumerate(possible_tags):\n",
    "            s = 0\n",
    "            if key == 0:\n",
    "                trasition_p = initial_transition_probabilities.iloc[0][tag]\n",
    "            else:\n",
    "                trasition_p = transition_matrix.loc[states[s - 1]][tag]\n",
    "            emission_p = emission_matrix.iloc[t,key]\n",
    "            state_probability = emission_p * trasition_p\n",
    "            p.append(state_probability)\n",
    "            s = s + 1\n",
    "        pmax = max(p)\n",
    "        state_max = possible_tags[p.index(pmax)]\n",
    "        states.append(state_max)\n",
    "            \n",
    "    print(list(zip(sentence_tokens,states)))\n"
   ]
  },
  {
   "cell_type": "code",
   "execution_count": 33,
   "metadata": {},
   "outputs": [
    {
     "name": "stdout",
     "output_type": "stream",
     "text": [
      "Viterbi Algorithm...\n",
      "[('Δημήτριος', 'NOUN'), ('δ', 'VERB'), ('ὁ', 'DET'), ('Πολιορκητὴς', 'NOUN'), ('οὐ', 'ADV'), ('δαιμονίως', 'ADV'), ('ἤρα', 'VERB'), ('Λαμίας', 'PUNCT'), ('τῆς', 'DET'), ('αὐλητρίδος', 'NOUN'), ('ἐξ', 'ADP'), ('ἧς', 'PRON'), ('ἔσχε', 'VERB'), ('καὶ', 'CCONJ'), ('θυγατέρα', 'NOUN'), ('Φίλαν', 'VERB')]\n"
     ]
    }
   ],
   "source": [
    "#test\n",
    "viterbi_algorithm(sentence, possible_tags, transition_matrix, emission_matrix)"
   ]
  },
  {
   "cell_type": "code",
   "execution_count": null,
   "metadata": {},
   "outputs": [],
   "source": []
  }
 ],
 "metadata": {
  "kernelspec": {
   "display_name": "Python 3",
   "language": "python",
   "name": "python3"
  },
  "language_info": {
   "codemirror_mode": {
    "name": "ipython",
    "version": 3
   },
   "file_extension": ".py",
   "mimetype": "text/x-python",
   "name": "python",
   "nbconvert_exporter": "python",
   "pygments_lexer": "ipython3",
   "version": "3.8.5"
  }
 },
 "nbformat": 4,
 "nbformat_minor": 4
}
